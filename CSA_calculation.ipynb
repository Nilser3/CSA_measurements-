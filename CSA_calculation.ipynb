{
 "cells": [
  {
   "cell_type": "code",
   "execution_count": null,
   "id": "9bb5f7fb",
   "metadata": {},
   "outputs": [],
   "source": [
    "import numpy as np\n",
    "import pandas as pd\n",
    "import nibabel as nib\n",
    "import matplotlib.pyplot as plt\n",
    "from skimage import data, util\n",
    "from skimage.measure import label,perimeter,mesh_surface_area\n",
    "import cv2\n",
    "import seaborn as sns\n",
    "from statannotations.Annotator import Annotator\n",
    "import pandas as pd"
   ]
  },
  {
   "cell_type": "code",
   "execution_count": null,
   "id": "f439dc3b",
   "metadata": {},
   "outputs": [],
   "source": [
    "df=[]\n",
    "\n",
    "for sujet_index in range (1,79):\n",
    "    path_database = 'Multiclass_SC_GM/Data_Seg_7T/'\n",
    "    image_data_SC = nib.load(path_database  + 'sub-' + str(sujet_index).zfill(2) +'_T2star_SC-manual.nii.gz')\n",
    "    header_info_SC = image_data_SC.header\n",
    "    res=float(header_info_SC[\"pixdim\"][2])\n",
    "    image_SC = np.array(image_data_SC.get_fdata())\n",
    "    image_data_GM = nib.load(path_database  + 'sub-' + str(sujet_index).zfill(2) +'_T2star_GM-manual.nii.gz')\n",
    "    header_info_GM = image_data_GM.header\n",
    "    image_GM = np.array(image_data_GM.get_fdata())\n",
    "    for i in range (image_SC.shape[2]):\n",
    "        sc_contour = perimeter(image_SC[:,:,i]) * res \n",
    "        gm_contour = perimeter(image_GM[:,:,i]) * res \n",
    "        #print (sc_contour)\n",
    "        sc_pixels = cv2.countNonZero(image_SC[:,:,i])\n",
    "        \n",
    "        gm_pixels = cv2.countNonZero(image_GM[:,:,i])\n",
    "\n",
    "        sc_area = sc_pixels * res * res\n",
    "        gm_area = gm_pixels * res * res\n",
    "\n",
    "        ratio_sc=sc_contour/sc_area\n",
    "        ratio_gm=gm_contour/gm_area\n",
    "\n",
    "        d = {'subject': sujet_index, 'slice': i,'sc_contour':sc_contour,'gm_contour':gm_contour,'sc_pixels':sc_pixels,\n",
    "             'gm_pixels':gm_pixels ,'sc_area':sc_area,'gm_area':gm_area,'ratio_sc':ratio_sc,'ratio_gm':ratio_gm}\n",
    "        print(sujet_index,i)\n",
    "\n",
    "        #df = pd.DataFrame(data=d)\n",
    "        df.append(d)"
   ]
  },
  {
   "cell_type": "code",
   "execution_count": null,
   "id": "fa45e03d",
   "metadata": {},
   "outputs": [],
   "source": [
    "data.to_csv(path_database + '/csa_7t.csv')"
   ]
  }
 ],
 "metadata": {
  "kernelspec": {
   "display_name": "Python 3 (ipykernel)",
   "language": "python",
   "name": "python3"
  },
  "language_info": {
   "codemirror_mode": {
    "name": "ipython",
    "version": 3
   },
   "file_extension": ".py",
   "mimetype": "text/x-python",
   "name": "python",
   "nbconvert_exporter": "python",
   "pygments_lexer": "ipython3",
   "version": "3.7.15"
  }
 },
 "nbformat": 4,
 "nbformat_minor": 5
}
